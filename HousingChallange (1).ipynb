{
 "cells": [
  {
   "cell_type": "code",
   "execution_count": 2,
   "metadata": {},
   "outputs": [],
   "source": [
    "import pandas as pd\n",
    "import matplotlib.pyplot as plt\n",
    "import seaborn as sns\n",
    "import numpy as np"
   ]
  },
  {
   "cell_type": "code",
   "execution_count": 5,
   "metadata": {},
   "outputs": [
    {
     "data": {
      "text/html": [
       "<div>\n",
       "<style scoped>\n",
       "    .dataframe tbody tr th:only-of-type {\n",
       "        vertical-align: middle;\n",
       "    }\n",
       "\n",
       "    .dataframe tbody tr th {\n",
       "        vertical-align: top;\n",
       "    }\n",
       "\n",
       "    .dataframe thead th {\n",
       "        text-align: right;\n",
       "    }\n",
       "</style>\n",
       "<table border=\"1\" class=\"dataframe\">\n",
       "  <thead>\n",
       "    <tr style=\"text-align: right;\">\n",
       "      <th></th>\n",
       "      <th>postedby</th>\n",
       "      <th>uc</th>\n",
       "      <th>rera</th>\n",
       "      <th>bhk</th>\n",
       "      <th>b_r</th>\n",
       "      <th>sq_ft</th>\n",
       "      <th>move_ready</th>\n",
       "      <th>resale</th>\n",
       "      <th>address</th>\n",
       "      <th>LONGITUDE</th>\n",
       "      <th>LATITUDE</th>\n",
       "      <th>price</th>\n",
       "    </tr>\n",
       "  </thead>\n",
       "  <tbody>\n",
       "    <tr>\n",
       "      <th>0</th>\n",
       "      <td>Owner</td>\n",
       "      <td>0</td>\n",
       "      <td>0</td>\n",
       "      <td>2</td>\n",
       "      <td>BHK</td>\n",
       "      <td>1300.236407</td>\n",
       "      <td>1</td>\n",
       "      <td>1</td>\n",
       "      <td>Ksfc Layout,Bangalore</td>\n",
       "      <td>12.969910</td>\n",
       "      <td>77.597960</td>\n",
       "      <td>55.0</td>\n",
       "    </tr>\n",
       "    <tr>\n",
       "      <th>1</th>\n",
       "      <td>Dealer</td>\n",
       "      <td>0</td>\n",
       "      <td>0</td>\n",
       "      <td>2</td>\n",
       "      <td>BHK</td>\n",
       "      <td>1275.000000</td>\n",
       "      <td>1</td>\n",
       "      <td>1</td>\n",
       "      <td>Vishweshwara Nagar,Mysore</td>\n",
       "      <td>12.274538</td>\n",
       "      <td>76.644605</td>\n",
       "      <td>51.0</td>\n",
       "    </tr>\n",
       "    <tr>\n",
       "      <th>2</th>\n",
       "      <td>Owner</td>\n",
       "      <td>0</td>\n",
       "      <td>0</td>\n",
       "      <td>2</td>\n",
       "      <td>BHK</td>\n",
       "      <td>933.159722</td>\n",
       "      <td>1</td>\n",
       "      <td>1</td>\n",
       "      <td>Jigani,Bangalore</td>\n",
       "      <td>12.778033</td>\n",
       "      <td>77.632191</td>\n",
       "      <td>43.0</td>\n",
       "    </tr>\n",
       "    <tr>\n",
       "      <th>3</th>\n",
       "      <td>Owner</td>\n",
       "      <td>0</td>\n",
       "      <td>1</td>\n",
       "      <td>2</td>\n",
       "      <td>BHK</td>\n",
       "      <td>929.921143</td>\n",
       "      <td>1</td>\n",
       "      <td>1</td>\n",
       "      <td>Sector-1 Vaishali,Ghaziabad</td>\n",
       "      <td>28.642300</td>\n",
       "      <td>77.344500</td>\n",
       "      <td>62.5</td>\n",
       "    </tr>\n",
       "    <tr>\n",
       "      <th>4</th>\n",
       "      <td>Dealer</td>\n",
       "      <td>1</td>\n",
       "      <td>0</td>\n",
       "      <td>2</td>\n",
       "      <td>BHK</td>\n",
       "      <td>999.009247</td>\n",
       "      <td>0</td>\n",
       "      <td>1</td>\n",
       "      <td>New Town,Kolkata</td>\n",
       "      <td>22.592200</td>\n",
       "      <td>88.484911</td>\n",
       "      <td>60.5</td>\n",
       "    </tr>\n",
       "  </tbody>\n",
       "</table>\n",
       "</div>"
      ],
      "text/plain": [
       "  postedby  uc  rera  bhk  b_r        sq_ft  move_ready  resale  \\\n",
       "0    Owner   0     0    2  BHK  1300.236407           1       1   \n",
       "1   Dealer   0     0    2  BHK  1275.000000           1       1   \n",
       "2    Owner   0     0    2  BHK   933.159722           1       1   \n",
       "3    Owner   0     1    2  BHK   929.921143           1       1   \n",
       "4   Dealer   1     0    2  BHK   999.009247           0       1   \n",
       "\n",
       "                       address  LONGITUDE   LATITUDE  price  \n",
       "0        Ksfc Layout,Bangalore  12.969910  77.597960   55.0  \n",
       "1    Vishweshwara Nagar,Mysore  12.274538  76.644605   51.0  \n",
       "2             Jigani,Bangalore  12.778033  77.632191   43.0  \n",
       "3  Sector-1 Vaishali,Ghaziabad  28.642300  77.344500   62.5  \n",
       "4             New Town,Kolkata  22.592200  88.484911   60.5  "
      ]
     },
     "execution_count": 5,
     "metadata": {},
     "output_type": "execute_result"
    }
   ],
   "source": [
    "df=pd.read_csv(r\"D:\\Aditi_2021\\ML\\Kaggle_Housing\\train.csv\")\n",
    "df.head()"
   ]
  },
  {
   "cell_type": "markdown",
   "metadata": {},
   "source": [
    "# Data Cleaning"
   ]
  },
  {
   "cell_type": "code",
   "execution_count": 6,
   "metadata": {},
   "outputs": [],
   "source": [
    "df[\"city\"]=df[\"address\"].apply(lambda x:x.split(\",\")[1])"
   ]
  },
  {
   "cell_type": "code",
   "execution_count": 7,
   "metadata": {},
   "outputs": [],
   "source": [
    "df[\"location\"]=df[\"address\"].apply(lambda x:x.split(\",\")[0])"
   ]
  },
  {
   "cell_type": "code",
   "execution_count": 8,
   "metadata": {},
   "outputs": [],
   "source": [
    "df.drop([\"address\"],inplace=True,axis=1)"
   ]
  },
  {
   "cell_type": "code",
   "execution_count": 9,
   "metadata": {},
   "outputs": [],
   "source": [
    "df.dropna(axis=0,inplace=True)"
   ]
  },
  {
   "cell_type": "code",
   "execution_count": 10,
   "metadata": {},
   "outputs": [],
   "source": [
    "df.to_csv(\"D:\\Aditi_2021\\ML\\Kaggle_Housing\\Cleaned_train.csv\")"
   ]
  },
  {
   "cell_type": "code",
   "execution_count": 11,
   "metadata": {},
   "outputs": [],
   "source": [
    "df=pd.read_csv(r\"D:\\Aditi_2021\\ML\\Kaggle_Housing\\Cleaned_train.csv\")"
   ]
  },
  {
   "cell_type": "markdown",
   "metadata": {},
   "source": [
    "# Exploratory Data Analysis"
   ]
  },
  {
   "cell_type": "code",
   "execution_count": 12,
   "metadata": {},
   "outputs": [
    {
     "data": {
      "text/plain": [
       "2    13324\n",
       "3    10546\n",
       "1     3574\n",
       "4     1723\n",
       "5      190\n",
       "Name: bhk, dtype: int64"
      ]
     },
     "execution_count": 12,
     "metadata": {},
     "output_type": "execute_result"
    }
   ],
   "source": [
    "df['bhk'].value_counts()[:5] #most people prefer 2 or 3 bhk"
   ]
  },
  {
   "cell_type": "code",
   "execution_count": 13,
   "metadata": {},
   "outputs": [
    {
     "data": {
      "text/plain": [
       "<AxesSubplot:>"
      ]
     },
     "execution_count": 13,
     "metadata": {},
     "output_type": "execute_result"
    },
    {
     "data": {
      "image/png": "[encoded data removed]",
      "text/plain": [
       "<Figure size 432x288 with 1 Axes>"
      ]
     },
     "metadata": {
      "needs_background": "light"
     },
     "output_type": "display_data"
    }
   ],
   "source": [
    "df.bhk.hist()"
   ]
  },
  {
   "cell_type": "code",
   "execution_count": 15,
   "metadata": {},
   "outputs": [
    {
     "data": {
      "text/plain": [
       "<AxesSubplot:>"
      ]
     },
     "execution_count": 15,
     "metadata": {},
     "output_type": "execute_result"
    },
    {
     "data": {
      "image/png": "[encoded data removed]",
      "text/plain": [
       "<Figure size 432x288 with 1 Axes>"
      ]
     },
     "metadata": {
      "needs_background": "light"
     },
     "output_type": "display_data"
    }
   ],
   "source": [
    "df.boxplot(column=[\"price\"]) #there are 3 outliers"
   ]
  },
  {
   "cell_type": "code",
   "execution_count": 16,
   "metadata": {},
   "outputs": [],
   "source": [
    "df_cat = df[[\"postedby\",\"uc\",\"resale\"]]"
   ]
  },
  {
   "cell_type": "code",
   "execution_count": 17,
   "metadata": {},
   "outputs": [
    {
     "name": "stdout",
     "output_type": "stream",
     "text": [
      "graph for postedby: total=3\n"
     ]
    },
    {
     "data": {
      "image/png": "[encoded data removed]",
      "text/plain": [
       "<Figure size 432x288 with 1 Axes>"
      ]
     },
     "metadata": {
      "needs_background": "light"
     },
     "output_type": "display_data"
    },
    {
     "name": "stdout",
     "output_type": "stream",
     "text": [
      "graph for uc: total=2\n"
     ]
    },
    {
     "data": {
      "image/png": "[encoded data removed]",
      "text/plain": [
       "<Figure size 432x288 with 1 Axes>"
      ]
     },
     "metadata": {
      "needs_background": "light"
     },
     "output_type": "display_data"
    },
    {
     "name": "stdout",
     "output_type": "stream",
     "text": [
      "graph for resale: total=2\n"
     ]
    },
    {
     "data": {
      "image/png": "[encoded data removed]",
      "text/plain": [
       "<Figure size 432x288 with 1 Axes>"
      ]
     },
     "metadata": {
      "needs_background": "light"
     },
     "output_type": "display_data"
    }
   ],
   "source": [
    "for i in df_cat.columns:\n",
    "    cat_num=df_cat[i].value_counts()\n",
    "    print(\"graph for %s: total=%d\"%(i,len(cat_num)))\n",
    "    chart=sns.barplot(x=cat_num.index,y=cat_num)\n",
    "    chart.set_xticklabels(chart.get_xticklabels(),rotation=90)\n",
    "    plt.show()"
   ]
  },
  {
   "cell_type": "code",
   "execution_count": 18,
   "metadata": {},
   "outputs": [
    {
     "name": "stdout",
     "output_type": "stream",
     "text": [
      "graph for resale: total=13\n"
     ]
    },
    {
     "data": {
      "image/png": "[encoded data removed]",
      "text/plain": [
       "<Figure size 432x288 with 1 Axes>"
      ]
     },
     "metadata": {
      "needs_background": "light"
     },
     "output_type": "display_data"
    }
   ],
   "source": [
    "cat_num=df[\"city\"][:20].value_counts()\n",
    "print(\"graph for %s: total=%d\"%(i,len(cat_num)))\n",
    "chart=sns.barplot(x=cat_num.index,y=cat_num)\n",
    "chart.set_xticklabels(chart.get_xticklabels(),rotation=90)\n",
    "plt.show()"
   ]
  },
  {
   "cell_type": "code",
   "execution_count": 19,
   "metadata": {},
   "outputs": [
    {
     "data": {
      "text/html": [
       "<div>\n",
       "<style scoped>\n",
       "    .dataframe tbody tr th:only-of-type {\n",
       "        vertical-align: middle;\n",
       "    }\n",
       "\n",
       "    .dataframe tbody tr th {\n",
       "        vertical-align: top;\n",
       "    }\n",
       "\n",
       "    .dataframe thead th {\n",
       "        text-align: right;\n",
       "    }\n",
       "</style>\n",
       "<table border=\"1\" class=\"dataframe\">\n",
       "  <thead>\n",
       "    <tr style=\"text-align: right;\">\n",
       "      <th></th>\n",
       "      <th>price</th>\n",
       "    </tr>\n",
       "    <tr>\n",
       "      <th>rera</th>\n",
       "      <th></th>\n",
       "    </tr>\n",
       "  </thead>\n",
       "  <tbody>\n",
       "    <tr>\n",
       "      <th>0</th>\n",
       "      <td>112.566951</td>\n",
       "    </tr>\n",
       "    <tr>\n",
       "      <th>1</th>\n",
       "      <td>207.974586</td>\n",
       "    </tr>\n",
       "  </tbody>\n",
       "</table>\n",
       "</div>"
      ],
      "text/plain": [
       "           price\n",
       "rera            \n",
       "0     112.566951\n",
       "1     207.974586"
      ]
     },
     "execution_count": 19,
     "metadata": {},
     "output_type": "execute_result"
    }
   ],
   "source": [
    "pd.pivot_table(df,index=\"rera\",values=\"price\")"
   ]
  },
  {
   "cell_type": "code",
   "execution_count": 23,
   "metadata": {},
   "outputs": [
    {
     "data": {
      "text/plain": [
       "<AxesSubplot:xlabel='bhk', ylabel='price'>"
      ]
     },
     "execution_count": 23,
     "metadata": {},
     "output_type": "execute_result"
    },
    {
     "data": {
      "image/png": "[encoded data removed]",
      "text/plain": [
       "<Figure size 432x288 with 1 Axes>"
      ]
     },
     "metadata": {
      "needs_background": "light"
     },
     "output_type": "display_data"
    }
   ],
   "source": [
    "sns.scatterplot(x=\"bhk\",y=\"price\",data=df)"
   ]
  },
  {
   "cell_type": "markdown",
   "metadata": {},
   "source": [
    "# Model Building (Multilinear Regression) "
   ]
  },
  {
   "cell_type": "code",
   "execution_count": 25,
   "metadata": {},
   "outputs": [
    {
     "data": {
      "text/html": [
       "<div>\n",
       "<style scoped>\n",
       "    .dataframe tbody tr th:only-of-type {\n",
       "        vertical-align: middle;\n",
       "    }\n",
       "\n",
       "    .dataframe tbody tr th {\n",
       "        vertical-align: top;\n",
       "    }\n",
       "\n",
       "    .dataframe thead th {\n",
       "        text-align: right;\n",
       "    }\n",
       "</style>\n",
       "<table border=\"1\" class=\"dataframe\">\n",
       "  <thead>\n",
       "    <tr style=\"text-align: right;\">\n",
       "      <th></th>\n",
       "      <th>Unnamed: 0</th>\n",
       "      <th>uc</th>\n",
       "      <th>rera</th>\n",
       "      <th>bhk</th>\n",
       "      <th>sq_ft</th>\n",
       "      <th>move_ready</th>\n",
       "      <th>resale</th>\n",
       "      <th>LONGITUDE</th>\n",
       "      <th>LATITUDE</th>\n",
       "      <th>price</th>\n",
       "    </tr>\n",
       "  </thead>\n",
       "  <tbody>\n",
       "    <tr>\n",
       "      <th>count</th>\n",
       "      <td>29451.000000</td>\n",
       "      <td>29451.000000</td>\n",
       "      <td>29451.000000</td>\n",
       "      <td>29451.000000</td>\n",
       "      <td>2.945100e+04</td>\n",
       "      <td>29451.000000</td>\n",
       "      <td>29451.000000</td>\n",
       "      <td>29451.000000</td>\n",
       "      <td>29451.000000</td>\n",
       "      <td>29451.000000</td>\n",
       "    </tr>\n",
       "    <tr>\n",
       "      <th>mean</th>\n",
       "      <td>14725.000000</td>\n",
       "      <td>0.179756</td>\n",
       "      <td>0.317918</td>\n",
       "      <td>2.392279</td>\n",
       "      <td>1.980217e+04</td>\n",
       "      <td>0.820244</td>\n",
       "      <td>0.929578</td>\n",
       "      <td>21.300255</td>\n",
       "      <td>76.837695</td>\n",
       "      <td>142.898746</td>\n",
       "    </tr>\n",
       "    <tr>\n",
       "      <th>std</th>\n",
       "      <td>8501.915725</td>\n",
       "      <td>0.383991</td>\n",
       "      <td>0.465675</td>\n",
       "      <td>0.879091</td>\n",
       "      <td>1.901335e+06</td>\n",
       "      <td>0.383991</td>\n",
       "      <td>0.255861</td>\n",
       "      <td>6.205306</td>\n",
       "      <td>10.557747</td>\n",
       "      <td>656.880713</td>\n",
       "    </tr>\n",
       "    <tr>\n",
       "      <th>min</th>\n",
       "      <td>0.000000</td>\n",
       "      <td>0.000000</td>\n",
       "      <td>0.000000</td>\n",
       "      <td>1.000000</td>\n",
       "      <td>3.000000e+00</td>\n",
       "      <td>0.000000</td>\n",
       "      <td>0.000000</td>\n",
       "      <td>-37.713008</td>\n",
       "      <td>-121.761248</td>\n",
       "      <td>0.250000</td>\n",
       "    </tr>\n",
       "    <tr>\n",
       "      <th>25%</th>\n",
       "      <td>7362.500000</td>\n",
       "      <td>0.000000</td>\n",
       "      <td>0.000000</td>\n",
       "      <td>2.000000</td>\n",
       "      <td>9.000211e+02</td>\n",
       "      <td>1.000000</td>\n",
       "      <td>1.000000</td>\n",
       "      <td>18.452663</td>\n",
       "      <td>73.798100</td>\n",
       "      <td>38.000000</td>\n",
       "    </tr>\n",
       "    <tr>\n",
       "      <th>50%</th>\n",
       "      <td>14725.000000</td>\n",
       "      <td>0.000000</td>\n",
       "      <td>0.000000</td>\n",
       "      <td>2.000000</td>\n",
       "      <td>1.175057e+03</td>\n",
       "      <td>1.000000</td>\n",
       "      <td>1.000000</td>\n",
       "      <td>20.750000</td>\n",
       "      <td>77.324137</td>\n",
       "      <td>62.000000</td>\n",
       "    </tr>\n",
       "    <tr>\n",
       "      <th>75%</th>\n",
       "      <td>22087.500000</td>\n",
       "      <td>0.000000</td>\n",
       "      <td>1.000000</td>\n",
       "      <td>3.000000</td>\n",
       "      <td>1.550688e+03</td>\n",
       "      <td>1.000000</td>\n",
       "      <td>1.000000</td>\n",
       "      <td>26.900926</td>\n",
       "      <td>77.828740</td>\n",
       "      <td>100.000000</td>\n",
       "    </tr>\n",
       "    <tr>\n",
       "      <th>max</th>\n",
       "      <td>29450.000000</td>\n",
       "      <td>1.000000</td>\n",
       "      <td>1.000000</td>\n",
       "      <td>20.000000</td>\n",
       "      <td>2.545455e+08</td>\n",
       "      <td>1.000000</td>\n",
       "      <td>1.000000</td>\n",
       "      <td>59.912884</td>\n",
       "      <td>152.962676</td>\n",
       "      <td>30000.000000</td>\n",
       "    </tr>\n",
       "  </tbody>\n",
       "</table>\n",
       "</div>"
      ],
      "text/plain": [
       "         Unnamed: 0            uc          rera           bhk         sq_ft  \\\n",
       "count  29451.000000  29451.000000  29451.000000  29451.000000  2.945100e+04   \n",
       "mean   14725.000000      0.179756      0.317918      2.392279  1.980217e+04   \n",
       "std     8501.915725      0.383991      0.465675      0.879091  1.901335e+06   \n",
       "min        0.000000      0.000000      0.000000      1.000000  3.000000e+00   \n",
       "25%     7362.500000      0.000000      0.000000      2.000000  9.000211e+02   \n",
       "50%    14725.000000      0.000000      0.000000      2.000000  1.175057e+03   \n",
       "75%    22087.500000      0.000000      1.000000      3.000000  1.550688e+03   \n",
       "max    29450.000000      1.000000      1.000000     20.000000  2.545455e+08   \n",
       "\n",
       "         move_ready        resale     LONGITUDE      LATITUDE         price  \n",
       "count  29451.000000  29451.000000  29451.000000  29451.000000  29451.000000  \n",
       "mean       0.820244      0.929578     21.300255     76.837695    142.898746  \n",
       "std        0.383991      0.255861      6.205306     10.557747    656.880713  \n",
       "min        0.000000      0.000000    -37.713008   -121.761248      0.250000  \n",
       "25%        1.000000      1.000000     18.452663     73.798100     38.000000  \n",
       "50%        1.000000      1.000000     20.750000     77.324137     62.000000  \n",
       "75%        1.000000      1.000000     26.900926     77.828740    100.000000  \n",
       "max        1.000000      1.000000     59.912884    152.962676  30000.000000  "
      ]
     },
     "execution_count": 25,
     "metadata": {},
     "output_type": "execute_result"
    }
   ],
   "source": [
    "df.describe()"
   ]
  },
  {
   "cell_type": "markdown",
   "metadata": {},
   "source": [
    "# Rmoving Outliers"
   ]
  },
  {
   "cell_type": "code",
   "execution_count": 26,
   "metadata": {},
   "outputs": [],
   "source": [
    "Q1=df.bhk.quantile(0.25)\n",
    "Q3=df.bhk.quantile(0.75)\n",
    "IQR=Q3-Q1\n",
    "lower=Q1-1.5*IQR\n",
    "upper=Q3+1.5*IQR\n",
    "df = df[(df.bhk>lower)&(df.bhk<upper)]"
   ]
  },
  {
   "cell_type": "code",
   "execution_count": 27,
   "metadata": {},
   "outputs": [],
   "source": [
    "Q1=df.sq_ft.quantile(0.25)\n",
    "Q3=df.sq_ft.quantile(0.75)\n",
    "IQR=Q3-Q1\n",
    "lower=Q1-1.5*IQR\n",
    "upper=Q3+1.5*IQR\n",
    "df = df[(df.sq_ft>lower)&(df.sq_ft<upper)]"
   ]
  },
  {
   "cell_type": "code",
   "execution_count": 28,
   "metadata": {},
   "outputs": [],
   "source": [
    "Q1=df.price.quantile(0.25)\n",
    "Q3=df.price.quantile(0.75)\n",
    "IQR=Q3-Q1\n",
    "lower=Q1-1.5*IQR\n",
    "upper=Q3+1.5*IQR\n",
    "df = df[(df.price>lower)&(df.price<upper)]"
   ]
  },
  {
   "cell_type": "code",
   "execution_count": 29,
   "metadata": {},
   "outputs": [],
   "source": [
    "Q1=df.LONGITUDE.quantile(0.25)\n",
    "Q3=df.LONGITUDE.quantile(0.75)\n",
    "IQR=Q3-Q1\n",
    "lower=Q1-1.5*IQR\n",
    "upper=Q3+1.5*IQR\n",
    "df = df[(df.LONGITUDE>lower)&(df.LONGITUDE<upper)]"
   ]
  },
  {
   "cell_type": "code",
   "execution_count": 30,
   "metadata": {},
   "outputs": [],
   "source": [
    "Q1=df.LATITUDE.quantile(0.25)\n",
    "Q3=df.LATITUDE.quantile(0.75)\n",
    "IQR=Q3-Q1\n",
    "lower=Q1-1.5*IQR\n",
    "upper=Q3+1.5*IQR\n",
    "df = df[(df.LATITUDE>lower)&(df.LATITUDE<upper)]"
   ]
  },
  {
   "cell_type": "code",
   "execution_count": 31,
   "metadata": {},
   "outputs": [],
   "source": [
    "df.to_csv(\"D:\\Aditi_2021\\ML\\Kaggle_Housing\\TrainDataWithoutOutliers.csv\")"
   ]
  },
  {
   "cell_type": "code",
   "execution_count": 51,
   "metadata": {},
   "outputs": [],
   "source": [
    "df=pd.read_csv(r\"D:\\Aditi_2021\\ML\\Kaggle_Housing\\TrainDataWithoutOutliers.csv\")"
   ]
  },
  {
   "cell_type": "markdown",
   "metadata": {},
   "source": [
    "# Model using Sklearn"
   ]
  },
  {
   "cell_type": "code",
   "execution_count": 33,
   "metadata": {},
   "outputs": [],
   "source": [
    "from sklearn import linear_model\n",
    "from sklearn import model_selection\n",
    "from sklearn import preprocessing\n",
    "from sklearn import metrics"
   ]
  },
  {
   "cell_type": "code",
   "execution_count": 52,
   "metadata": {},
   "outputs": [],
   "source": [
    "scaler=preprocessing.StandardScaler()"
   ]
  },
  {
   "cell_type": "code",
   "execution_count": 100,
   "metadata": {},
   "outputs": [],
   "source": [
    "Xtrain=df[[\"sq_ft\",\"bhk\"]]"
   ]
  },
  {
   "cell_type": "code",
   "execution_count": 101,
   "metadata": {},
   "outputs": [
    {
     "data": {
      "text/html": [
       "<div>\n",
       "<style scoped>\n",
       "    .dataframe tbody tr th:only-of-type {\n",
       "        vertical-align: middle;\n",
       "    }\n",
       "\n",
       "    .dataframe tbody tr th {\n",
       "        vertical-align: top;\n",
       "    }\n",
       "\n",
       "    .dataframe thead th {\n",
       "        text-align: right;\n",
       "    }\n",
       "</style>\n",
       "<table border=\"1\" class=\"dataframe\">\n",
       "  <thead>\n",
       "    <tr style=\"text-align: right;\">\n",
       "      <th></th>\n",
       "      <th>sq_ft</th>\n",
       "      <th>bhk</th>\n",
       "    </tr>\n",
       "  </thead>\n",
       "  <tbody>\n",
       "    <tr>\n",
       "      <th>0</th>\n",
       "      <td>1300.236407</td>\n",
       "      <td>2</td>\n",
       "    </tr>\n",
       "    <tr>\n",
       "      <th>1</th>\n",
       "      <td>1275.000000</td>\n",
       "      <td>2</td>\n",
       "    </tr>\n",
       "    <tr>\n",
       "      <th>2</th>\n",
       "      <td>933.159722</td>\n",
       "      <td>2</td>\n",
       "    </tr>\n",
       "  </tbody>\n",
       "</table>\n",
       "</div>"
      ],
      "text/plain": [
       "         sq_ft  bhk\n",
       "0  1300.236407    2\n",
       "1  1275.000000    2\n",
       "2   933.159722    2"
      ]
     },
     "execution_count": 101,
     "metadata": {},
     "output_type": "execute_result"
    }
   ],
   "source": [
    "Xtrain[:3]"
   ]
  },
  {
   "cell_type": "code",
   "execution_count": 137,
   "metadata": {},
   "outputs": [],
   "source": [
    "Xtrainarr=scaler.fit_transform(Xtrain) #to bring the magnitude of values on a standard scaler"
   ]
  },
  {
   "cell_type": "code",
   "execution_count": 103,
   "metadata": {},
   "outputs": [
    {
     "data": {
      "text/plain": [
       "array([[ 0.32125032, -0.31837568],\n",
       "       [ 0.26368772, -0.31837568],\n",
       "       [-0.5160277 , -0.31837568]])"
      ]
     },
     "execution_count": 103,
     "metadata": {},
     "output_type": "execute_result"
    }
   ],
   "source": [
    "Xtrainarr[:3]"
   ]
  },
  {
   "cell_type": "code",
   "execution_count": 104,
   "metadata": {},
   "outputs": [
    {
     "name": "stderr",
     "output_type": "stream",
     "text": [
      "C:\\Users\\Hp\\anaconda3\\lib\\site-packages\\seaborn\\distributions.py:2557: FutureWarning: `distplot` is a deprecated function and will be removed in a future version. Please adapt your code to use either `displot` (a figure-level function with similar flexibility) or `kdeplot` (an axes-level function for kernel density plots).\n",
      "  warnings.warn(msg, FutureWarning)\n"
     ]
    },
    {
     "data": {
      "text/plain": [
       "<AxesSubplot:xlabel='sq_ft', ylabel='Density'>"
      ]
     },
     "execution_count": 104,
     "metadata": {},
     "output_type": "execute_result"
    },
    {
     "data": {
      "image/png": "[encoded data removed]",
      "text/plain": [
       "<Figure size 432x288 with 1 Axes>"
      ]
     },
     "metadata": {
      "needs_background": "light"
     },
     "output_type": "display_data"
    }
   ],
   "source": [
    "sns.distplot(df[\"sq_ft\"],hist=False)"
   ]
  },
  {
   "cell_type": "code",
   "execution_count": 105,
   "metadata": {},
   "outputs": [],
   "source": [
    "from sklearn.linear_model import LinearRegression"
   ]
  },
  {
   "cell_type": "code",
   "execution_count": 106,
   "metadata": {},
   "outputs": [],
   "source": [
    "lm=LinearRegression()"
   ]
  },
  {
   "cell_type": "code",
   "execution_count": 107,
   "metadata": {},
   "outputs": [
    {
     "data": {
      "text/html": [
       "<div>\n",
       "<style scoped>\n",
       "    .dataframe tbody tr th:only-of-type {\n",
       "        vertical-align: middle;\n",
       "    }\n",
       "\n",
       "    .dataframe tbody tr th {\n",
       "        vertical-align: top;\n",
       "    }\n",
       "\n",
       "    .dataframe thead th {\n",
       "        text-align: right;\n",
       "    }\n",
       "</style>\n",
       "<table border=\"1\" class=\"dataframe\">\n",
       "  <thead>\n",
       "    <tr style=\"text-align: right;\">\n",
       "      <th></th>\n",
       "      <th>postedby</th>\n",
       "      <th>uc</th>\n",
       "      <th>rera</th>\n",
       "      <th>bhk</th>\n",
       "      <th>b_r</th>\n",
       "      <th>sq_ft</th>\n",
       "      <th>move_ready</th>\n",
       "      <th>resale</th>\n",
       "      <th>LONGITUDE</th>\n",
       "      <th>LATITUDE</th>\n",
       "      <th>price</th>\n",
       "      <th>city</th>\n",
       "      <th>location</th>\n",
       "      <th>postedby2</th>\n",
       "    </tr>\n",
       "  </thead>\n",
       "  <tbody>\n",
       "    <tr>\n",
       "      <th>0</th>\n",
       "      <td>Owner</td>\n",
       "      <td>0</td>\n",
       "      <td>0</td>\n",
       "      <td>2</td>\n",
       "      <td>BHK</td>\n",
       "      <td>1300.236407</td>\n",
       "      <td>1</td>\n",
       "      <td>1</td>\n",
       "      <td>12.969910</td>\n",
       "      <td>77.597960</td>\n",
       "      <td>55.0</td>\n",
       "      <td>Bangalore</td>\n",
       "      <td>Ksfc Layout</td>\n",
       "      <td>1</td>\n",
       "    </tr>\n",
       "    <tr>\n",
       "      <th>1</th>\n",
       "      <td>Dealer</td>\n",
       "      <td>0</td>\n",
       "      <td>0</td>\n",
       "      <td>2</td>\n",
       "      <td>BHK</td>\n",
       "      <td>1275.000000</td>\n",
       "      <td>1</td>\n",
       "      <td>1</td>\n",
       "      <td>12.274538</td>\n",
       "      <td>76.644605</td>\n",
       "      <td>51.0</td>\n",
       "      <td>Mysore</td>\n",
       "      <td>Vishweshwara Nagar</td>\n",
       "      <td>2</td>\n",
       "    </tr>\n",
       "    <tr>\n",
       "      <th>2</th>\n",
       "      <td>Owner</td>\n",
       "      <td>0</td>\n",
       "      <td>0</td>\n",
       "      <td>2</td>\n",
       "      <td>BHK</td>\n",
       "      <td>933.159722</td>\n",
       "      <td>1</td>\n",
       "      <td>1</td>\n",
       "      <td>12.778033</td>\n",
       "      <td>77.632191</td>\n",
       "      <td>43.0</td>\n",
       "      <td>Bangalore</td>\n",
       "      <td>Jigani</td>\n",
       "      <td>1</td>\n",
       "    </tr>\n",
       "  </tbody>\n",
       "</table>\n",
       "</div>"
      ],
      "text/plain": [
       "  postedby  uc  rera  bhk  b_r        sq_ft  move_ready  resale  LONGITUDE  \\\n",
       "0    Owner   0     0    2  BHK  1300.236407           1       1  12.969910   \n",
       "1   Dealer   0     0    2  BHK  1275.000000           1       1  12.274538   \n",
       "2    Owner   0     0    2  BHK   933.159722           1       1  12.778033   \n",
       "\n",
       "    LATITUDE  price       city            location  postedby2  \n",
       "0  77.597960   55.0  Bangalore         Ksfc Layout          1  \n",
       "1  76.644605   51.0     Mysore  Vishweshwara Nagar          2  \n",
       "2  77.632191   43.0  Bangalore              Jigani          1  "
      ]
     },
     "execution_count": 107,
     "metadata": {},
     "output_type": "execute_result"
    }
   ],
   "source": [
    "df[:3]"
   ]
  },
  {
   "cell_type": "code",
   "execution_count": 108,
   "metadata": {},
   "outputs": [],
   "source": [
    "df[\"postedby2\"]=df.postedby.replace({\"Owner\":1,\"Dealer\":2,\"Builder\":3})"
   ]
  },
  {
   "cell_type": "code",
   "execution_count": 109,
   "metadata": {},
   "outputs": [],
   "source": [
    "z=df[[\"uc\",\"bhk\",\"sq_ft\",\"rera\",\"resale\",\"postedby2\",\"move_ready\",\"LONGITUDE\",\"LATITUDE\"]]"
   ]
  },
  {
   "cell_type": "code",
   "execution_count": 110,
   "metadata": {},
   "outputs": [
    {
     "data": {
      "text/plain": [
       "LinearRegression()"
      ]
     },
     "execution_count": 110,
     "metadata": {},
     "output_type": "execute_result"
    }
   ],
   "source": [
    "lm.fit(z,df[\"price\"])"
   ]
  },
  {
   "cell_type": "code",
   "execution_count": 111,
   "metadata": {},
   "outputs": [
    {
     "data": {
      "text/plain": [
       "211.3803055428043"
      ]
     },
     "execution_count": 111,
     "metadata": {},
     "output_type": "execute_result"
    }
   ],
   "source": [
    "lm.intercept_"
   ]
  },
  {
   "cell_type": "code",
   "execution_count": 112,
   "metadata": {},
   "outputs": [
    {
     "data": {
      "text/plain": [
       "array([ 1.65856111,  6.15760547,  0.03352856,  5.67396808,  9.46018683,\n",
       "       18.12787101, -1.65856111, -1.35590632, -2.73849631])"
      ]
     },
     "execution_count": 112,
     "metadata": {},
     "output_type": "execute_result"
    }
   ],
   "source": [
    "lm.coef_"
   ]
  },
  {
   "cell_type": "code",
   "execution_count": 113,
   "metadata": {},
   "outputs": [],
   "source": [
    "Y_hat=lm.predict(z)"
   ]
  },
  {
   "cell_type": "code",
   "execution_count": 114,
   "metadata": {},
   "outputs": [
    {
     "name": "stderr",
     "output_type": "stream",
     "text": [
      "C:\\Users\\Hp\\anaconda3\\lib\\site-packages\\seaborn\\distributions.py:2557: FutureWarning: `distplot` is a deprecated function and will be removed in a future version. Please adapt your code to use either `displot` (a figure-level function with similar flexibility) or `kdeplot` (an axes-level function for kernel density plots).\n",
      "  warnings.warn(msg, FutureWarning)\n",
      "C:\\Users\\Hp\\anaconda3\\lib\\site-packages\\seaborn\\distributions.py:2557: FutureWarning: `distplot` is a deprecated function and will be removed in a future version. Please adapt your code to use either `displot` (a figure-level function with similar flexibility) or `kdeplot` (an axes-level function for kernel density plots).\n",
      "  warnings.warn(msg, FutureWarning)\n"
     ]
    },
    {
     "data": {
      "image/png": "[encoded data removed]",
      "text/plain": [
       "<Figure size 864x720 with 1 Axes>"
      ]
     },
     "metadata": {
      "needs_background": "light"
     },
     "output_type": "display_data"
    }
   ],
   "source": [
    "plt.figure(figsize=(12,10))\n",
    "ax1=sns.distplot(df[\"price\"], hist=False, color=\"r\",label=\"Actual Value\")\n",
    "sns.distplot(Y_hat,hist=False,color=\"b\",label=\"Fitted Values\",ax=ax1)\n",
    "plt.title('Actual vs Fitted Values for Price')\n",
    "plt.xlabel('Price')\n",
    "plt.ylabel('Proportion of Cars')\n",
    "\n",
    "plt.show()\n",
    "plt.close()"
   ]
  },
  {
   "cell_type": "code",
   "execution_count": 115,
   "metadata": {},
   "outputs": [
    {
     "name": "stdout",
     "output_type": "stream",
     "text": [
      "The R-square is:  0.3319695189452657\n"
     ]
    }
   ],
   "source": [
    "print('The R-square is: ', lm.score(z, df['price']))"
   ]
  },
  {
   "cell_type": "code",
   "execution_count": 116,
   "metadata": {},
   "outputs": [],
   "source": [
    "from sklearn.metrics import mean_squared_error"
   ]
  },
  {
   "cell_type": "code",
   "execution_count": 117,
   "metadata": {},
   "outputs": [
    {
     "name": "stdout",
     "output_type": "stream",
     "text": [
      "The mean square error of price and predicted value using multifit is:  1002.1558119049614\n"
     ]
    }
   ],
   "source": [
    "Y_predict_multifit = lm.predict(z)\n",
    "print('The mean square error of price and predicted value using multifit is: ', \\\n",
    "      mean_squared_error(df['price'], Y_predict_multifit))"
   ]
  },
  {
   "cell_type": "markdown",
   "metadata": {},
   "source": [
    "# Testing the Sklearn Model"
   ]
  },
  {
   "cell_type": "code",
   "execution_count": 119,
   "metadata": {},
   "outputs": [],
   "source": [
    "df2=pd.read_csv(r\"D:\\Aditi_2021\\ML\\Kaggle_Housing\\test.csv\")"
   ]
  },
  {
   "cell_type": "code",
   "execution_count": 120,
   "metadata": {},
   "outputs": [],
   "source": [
    "df2[\"postedby2\"]=df2.postedby.replace({\"Owner\":1,\"Dealer\":2,\"Builder\":3})\n",
    "df2.drop([\"postedby\"],inplace=True,axis=1)\n",
    "df2.drop([\"address\"],inplace=True,axis=1)"
   ]
  },
  {
   "cell_type": "code",
   "execution_count": 121,
   "metadata": {},
   "outputs": [
    {
     "data": {
      "text/html": [
       "<div>\n",
       "<style scoped>\n",
       "    .dataframe tbody tr th:only-of-type {\n",
       "        vertical-align: middle;\n",
       "    }\n",
       "\n",
       "    .dataframe tbody tr th {\n",
       "        vertical-align: top;\n",
       "    }\n",
       "\n",
       "    .dataframe thead th {\n",
       "        text-align: right;\n",
       "    }\n",
       "</style>\n",
       "<table border=\"1\" class=\"dataframe\">\n",
       "  <thead>\n",
       "    <tr style=\"text-align: right;\">\n",
       "      <th></th>\n",
       "      <th>uc</th>\n",
       "      <th>rera</th>\n",
       "      <th>bhk</th>\n",
       "      <th>b_r</th>\n",
       "      <th>sq_ft</th>\n",
       "      <th>move_ready</th>\n",
       "      <th>resale</th>\n",
       "      <th>LONGITUDE</th>\n",
       "      <th>LATITUDE</th>\n",
       "      <th>postedby2</th>\n",
       "    </tr>\n",
       "  </thead>\n",
       "  <tbody>\n",
       "    <tr>\n",
       "      <th>0</th>\n",
       "      <td>0</td>\n",
       "      <td>0</td>\n",
       "      <td>1</td>\n",
       "      <td>BHK</td>\n",
       "      <td>545.17134</td>\n",
       "      <td>1</td>\n",
       "      <td>1</td>\n",
       "      <td>21.262000</td>\n",
       "      <td>73.047700</td>\n",
       "      <td>1</td>\n",
       "    </tr>\n",
       "    <tr>\n",
       "      <th>1</th>\n",
       "      <td>1</td>\n",
       "      <td>1</td>\n",
       "      <td>2</td>\n",
       "      <td>BHK</td>\n",
       "      <td>800.00000</td>\n",
       "      <td>0</td>\n",
       "      <td>0</td>\n",
       "      <td>18.966114</td>\n",
       "      <td>73.148278</td>\n",
       "      <td>2</td>\n",
       "    </tr>\n",
       "  </tbody>\n",
       "</table>\n",
       "</div>"
      ],
      "text/plain": [
       "   uc  rera  bhk  b_r      sq_ft  move_ready  resale  LONGITUDE   LATITUDE  \\\n",
       "0   0     0    1  BHK  545.17134           1       1  21.262000  73.047700   \n",
       "1   1     1    2  BHK  800.00000           0       0  18.966114  73.148278   \n",
       "\n",
       "   postedby2  \n",
       "0          1  \n",
       "1          2  "
      ]
     },
     "execution_count": 121,
     "metadata": {},
     "output_type": "execute_result"
    }
   ],
   "source": [
    "df2[:2]"
   ]
  },
  {
   "cell_type": "code",
   "execution_count": 122,
   "metadata": {},
   "outputs": [],
   "source": [
    "Xtest=df2[[\"bhk\",\"sq_ft\"]]\n",
    "Xtestarr=scaler.transform(Xtest)"
   ]
  },
  {
   "cell_type": "code",
   "execution_count": 123,
   "metadata": {},
   "outputs": [],
   "source": [
    "w=df2[[\"uc\",\"bhk\",\"sq_ft\",\"rera\",\"move_ready\",\"resale\",\"postedby2\",\"LONGITUDE\",\"LATITUDE\"]]"
   ]
  },
  {
   "cell_type": "code",
   "execution_count": 124,
   "metadata": {},
   "outputs": [],
   "source": [
    "df_dum2=pd.get_dummies(w)"
   ]
  },
  {
   "cell_type": "code",
   "execution_count": 125,
   "metadata": {},
   "outputs": [],
   "source": [
    "test=lm.predict(w)"
   ]
  },
  {
   "cell_type": "code",
   "execution_count": 127,
   "metadata": {},
   "outputs": [],
   "source": [
    "pd.DataFrame(test).to_csv('D:\\Aditi_2021\\ML\\Kaggle_Housing\\FinalSubmission3.csv')"
   ]
  },
  {
   "cell_type": "code",
   "execution_count": 129,
   "metadata": {},
   "outputs": [
    {
     "data": {
      "text/html": [
       "<div>\n",
       "<style scoped>\n",
       "    .dataframe tbody tr th:only-of-type {\n",
       "        vertical-align: middle;\n",
       "    }\n",
       "\n",
       "    .dataframe tbody tr th {\n",
       "        vertical-align: top;\n",
       "    }\n",
       "\n",
       "    .dataframe thead th {\n",
       "        text-align: right;\n",
       "    }\n",
       "</style>\n",
       "<table border=\"1\" class=\"dataframe\">\n",
       "  <thead>\n",
       "    <tr style=\"text-align: right;\">\n",
       "      <th></th>\n",
       "      <th>Unnamed: 0</th>\n",
       "      <th>0</th>\n",
       "    </tr>\n",
       "  </thead>\n",
       "  <tbody>\n",
       "    <tr>\n",
       "      <th>0</th>\n",
       "      <td>0</td>\n",
       "      <td>32.876082</td>\n",
       "    </tr>\n",
       "    <tr>\n",
       "      <th>1</th>\n",
       "      <td>1</td>\n",
       "      <td>28.501210</td>\n",
       "    </tr>\n",
       "    <tr>\n",
       "      <th>2</th>\n",
       "      <td>2</td>\n",
       "      <td>17.166581</td>\n",
       "    </tr>\n",
       "  </tbody>\n",
       "</table>\n",
       "</div>"
      ],
      "text/plain": [
       "   Unnamed: 0          0\n",
       "0           0  32.876082\n",
       "1           1  28.501210\n",
       "2           2  17.166581"
      ]
     },
     "execution_count": 129,
     "metadata": {},
     "output_type": "execute_result"
    }
   ],
   "source": [
    "df3=pd.read_csv(r\"D:\\Aditi_2021\\ML\\Kaggle_Housing\\FinalSubmission3.csv\")\n",
    "df3[:3]"
   ]
  },
  {
   "cell_type": "markdown",
   "metadata": {},
   "source": [
    "# Summary Using Statsmodel.api"
   ]
  },
  {
   "cell_type": "code",
   "execution_count": 130,
   "metadata": {},
   "outputs": [],
   "source": [
    "import statsmodels.api as sm"
   ]
  },
  {
   "cell_type": "code",
   "execution_count": 131,
   "metadata": {},
   "outputs": [],
   "source": [
    "df_model=df[['postedby', 'uc', 'rera', 'bhk', 'b_r', 'sq_ft', 'move_ready', 'resale', 'price',\"LONGITUDE\",\"LATITUDE\"]]"
   ]
  },
  {
   "cell_type": "code",
   "execution_count": 132,
   "metadata": {},
   "outputs": [],
   "source": [
    "df_dum=pd.get_dummies(df_model)"
   ]
  },
  {
   "cell_type": "code",
   "execution_count": 133,
   "metadata": {},
   "outputs": [],
   "source": [
    "x=df_dum.drop(\"price\",axis=1)\n",
    "y=df_dum.price.values"
   ]
  },
  {
   "cell_type": "code",
   "execution_count": 134,
   "metadata": {},
   "outputs": [],
   "source": [
    "x_sm=x=sm.add_constant(x)"
   ]
  },
  {
   "cell_type": "code",
   "execution_count": 135,
   "metadata": {},
   "outputs": [
    {
     "data": {
      "text/html": [
       "<table class=\"simpletable\">\n",
       "<caption>OLS Regression Results</caption>\n",
       "<tr>\n",
       "  <th>Dep. Variable:</th>            <td>y</td>        <th>  R-squared:         </th>  <td>   0.360</td>  \n",
       "</tr>\n",
       "<tr>\n",
       "  <th>Model:</th>                   <td>OLS</td>       <th>  Adj. R-squared:    </th>  <td>   0.359</td>  \n",
       "</tr>\n",
       "<tr>\n",
       "  <th>Method:</th>             <td>Least Squares</td>  <th>  F-statistic:       </th>  <td>   1289.</td>  \n",
       "</tr>\n",
       "<tr>\n",
       "  <th>Date:</th>             <td>Sat, 26 Jun 2021</td> <th>  Prob (F-statistic):</th>   <td>  0.00</td>   \n",
       "</tr>\n",
       "<tr>\n",
       "  <th>Time:</th>                 <td>11:39:32</td>     <th>  Log-Likelihood:    </th> <td>-1.1134e+05</td>\n",
       "</tr>\n",
       "<tr>\n",
       "  <th>No. Observations:</th>      <td> 22945</td>      <th>  AIC:               </th>  <td>2.227e+05</td> \n",
       "</tr>\n",
       "<tr>\n",
       "  <th>Df Residuals:</th>          <td> 22934</td>      <th>  BIC:               </th>  <td>2.228e+05</td> \n",
       "</tr>\n",
       "<tr>\n",
       "  <th>Df Model:</th>              <td>    10</td>      <th>                     </th>      <td> </td>     \n",
       "</tr>\n",
       "<tr>\n",
       "  <th>Covariance Type:</th>      <td>nonrobust</td>    <th>                     </th>      <td> </td>     \n",
       "</tr>\n",
       "</table>\n",
       "<table class=\"simpletable\">\n",
       "<tr>\n",
       "          <td></td>            <th>coef</th>     <th>std err</th>      <th>t</th>      <th>P>|t|</th>  <th>[0.025</th>    <th>0.975]</th>  \n",
       "</tr>\n",
       "<tr>\n",
       "  <th>const</th>            <td>  100.9112</td> <td>    3.105</td> <td>   32.504</td> <td> 0.000</td> <td>   94.826</td> <td>  106.996</td>\n",
       "</tr>\n",
       "<tr>\n",
       "  <th>uc</th>               <td>   51.9058</td> <td>    1.583</td> <td>   32.794</td> <td> 0.000</td> <td>   48.803</td> <td>   55.008</td>\n",
       "</tr>\n",
       "<tr>\n",
       "  <th>rera</th>             <td>    4.3426</td> <td>    0.496</td> <td>    8.760</td> <td> 0.000</td> <td>    3.371</td> <td>    5.314</td>\n",
       "</tr>\n",
       "<tr>\n",
       "  <th>bhk</th>              <td>    5.7832</td> <td>    0.489</td> <td>   11.826</td> <td> 0.000</td> <td>    4.825</td> <td>    6.742</td>\n",
       "</tr>\n",
       "<tr>\n",
       "  <th>sq_ft</th>            <td>    0.0339</td> <td>    0.001</td> <td>   41.797</td> <td> 0.000</td> <td>    0.032</td> <td>    0.036</td>\n",
       "</tr>\n",
       "<tr>\n",
       "  <th>move_ready</th>       <td>   49.0055</td> <td>    1.583</td> <td>   30.964</td> <td> 0.000</td> <td>   45.903</td> <td>   52.108</td>\n",
       "</tr>\n",
       "<tr>\n",
       "  <th>resale</th>           <td>   -6.7376</td> <td>    1.067</td> <td>   -6.317</td> <td> 0.000</td> <td>   -8.828</td> <td>   -4.647</td>\n",
       "</tr>\n",
       "<tr>\n",
       "  <th>LONGITUDE</th>        <td>   -1.4019</td> <td>    0.034</td> <td>  -41.600</td> <td> 0.000</td> <td>   -1.468</td> <td>   -1.336</td>\n",
       "</tr>\n",
       "<tr>\n",
       "  <th>LATITUDE</th>         <td>   -2.4914</td> <td>    0.085</td> <td>  -29.464</td> <td> 0.000</td> <td>   -2.657</td> <td>   -2.326</td>\n",
       "</tr>\n",
       "<tr>\n",
       "  <th>postedby_Builder</th> <td>   19.5311</td> <td>    1.525</td> <td>   12.810</td> <td> 0.000</td> <td>   16.543</td> <td>   22.520</td>\n",
       "</tr>\n",
       "<tr>\n",
       "  <th>postedby_Dealer</th>  <td>   51.7786</td> <td>    1.149</td> <td>   45.053</td> <td> 0.000</td> <td>   49.526</td> <td>   54.031</td>\n",
       "</tr>\n",
       "<tr>\n",
       "  <th>postedby_Owner</th>   <td>   29.6015</td> <td>    1.235</td> <td>   23.976</td> <td> 0.000</td> <td>   27.182</td> <td>   32.022</td>\n",
       "</tr>\n",
       "<tr>\n",
       "  <th>b_r_BHK</th>          <td>   45.1145</td> <td>    2.888</td> <td>   15.621</td> <td> 0.000</td> <td>   39.454</td> <td>   50.775</td>\n",
       "</tr>\n",
       "<tr>\n",
       "  <th>b_r_RK</th>           <td>   55.7967</td> <td>    4.186</td> <td>   13.329</td> <td> 0.000</td> <td>   47.592</td> <td>   64.002</td>\n",
       "</tr>\n",
       "</table>\n",
       "<table class=\"simpletable\">\n",
       "<tr>\n",
       "  <th>Omnibus:</th>       <td>3408.271</td> <th>  Durbin-Watson:     </th> <td>   2.011</td>\n",
       "</tr>\n",
       "<tr>\n",
       "  <th>Prob(Omnibus):</th>  <td> 0.000</td>  <th>  Jarque-Bera (JB):  </th> <td>5482.971</td>\n",
       "</tr>\n",
       "<tr>\n",
       "  <th>Skew:</th>           <td> 1.023</td>  <th>  Prob(JB):          </th> <td>    0.00</td>\n",
       "</tr>\n",
       "<tr>\n",
       "  <th>Kurtosis:</th>       <td> 4.244</td>  <th>  Cond. No.          </th> <td>7.61e+19</td>\n",
       "</tr>\n",
       "</table><br/><br/>Notes:<br/>[1] Standard Errors assume that the covariance matrix of the errors is correctly specified.<br/>[2] The smallest eigenvalue is 6.11e-30. This might indicate that there are<br/>strong multicollinearity problems or that the design matrix is singular."
      ],
      "text/plain": [
       "<class 'statsmodels.iolib.summary.Summary'>\n",
       "\"\"\"\n",
       "                            OLS Regression Results                            \n",
       "==============================================================================\n",
       "Dep. Variable:                      y   R-squared:                       0.360\n",
       "Model:                            OLS   Adj. R-squared:                  0.359\n",
       "Method:                 Least Squares   F-statistic:                     1289.\n",
       "Date:                Sat, 26 Jun 2021   Prob (F-statistic):               0.00\n",
       "Time:                        11:39:32   Log-Likelihood:            -1.1134e+05\n",
       "No. Observations:               22945   AIC:                         2.227e+05\n",
       "Df Residuals:                   22934   BIC:                         2.228e+05\n",
       "Df Model:                          10                                         \n",
       "Covariance Type:            nonrobust                                         \n",
       "====================================================================================\n",
       "                       coef    std err          t      P>|t|      [0.025      0.975]\n",
       "------------------------------------------------------------------------------------\n",
       "const              100.9112      3.105     32.504      0.000      94.826     106.996\n",
       "uc                  51.9058      1.583     32.794      0.000      48.803      55.008\n",
       "rera                 4.3426      0.496      8.760      0.000       3.371       5.314\n",
       "bhk                  5.7832      0.489     11.826      0.000       4.825       6.742\n",
       "sq_ft                0.0339      0.001     41.797      0.000       0.032       0.036\n",
       "move_ready          49.0055      1.583     30.964      0.000      45.903      52.108\n",
       "resale              -6.7376      1.067     -6.317      0.000      -8.828      -4.647\n",
       "LONGITUDE           -1.4019      0.034    -41.600      0.000      -1.468      -1.336\n",
       "LATITUDE            -2.4914      0.085    -29.464      0.000      -2.657      -2.326\n",
       "postedby_Builder    19.5311      1.525     12.810      0.000      16.543      22.520\n",
       "postedby_Dealer     51.7786      1.149     45.053      0.000      49.526      54.031\n",
       "postedby_Owner      29.6015      1.235     23.976      0.000      27.182      32.022\n",
       "b_r_BHK             45.1145      2.888     15.621      0.000      39.454      50.775\n",
       "b_r_RK              55.7967      4.186     13.329      0.000      47.592      64.002\n",
       "==============================================================================\n",
       "Omnibus:                     3408.271   Durbin-Watson:                   2.011\n",
       "Prob(Omnibus):                  0.000   Jarque-Bera (JB):             5482.971\n",
       "Skew:                           1.023   Prob(JB):                         0.00\n",
       "Kurtosis:                       4.244   Cond. No.                     7.61e+19\n",
       "==============================================================================\n",
       "\n",
       "Notes:\n",
       "[1] Standard Errors assume that the covariance matrix of the errors is correctly specified.\n",
       "[2] The smallest eigenvalue is 6.11e-30. This might indicate that there are\n",
       "strong multicollinearity problems or that the design matrix is singular.\n",
       "\"\"\""
      ]
     },
     "execution_count": 135,
     "metadata": {},
     "output_type": "execute_result"
    }
   ],
   "source": [
    "model=sm.OLS(y,x_sm)\n",
    "result=model.fit()\n",
    "result.summary()"
   ]
  },
  {
   "cell_type": "code",
   "execution_count": 136,
   "metadata": {},
   "outputs": [
    {
     "data": {
      "text/plain": [
       "<AxesSubplot:xlabel='sq_ft', ylabel='price'>"
      ]
     },
     "execution_count": 136,
     "metadata": {},
     "output_type": "execute_result"
    },
    {
     "data": {
      "image/png": "[encoded data removed]",
      "text/plain": [
       "<Figure size 432x288 with 1 Axes>"
      ]
     },
     "metadata": {
      "needs_background": "light"
     },
     "output_type": "display_data"
    }
   ],
   "source": [
    "sns.regplot(x=\"sq_ft\",y=\"price\",data=df)"
   ]
  }
 ],
 "metadata": {
  "kernelspec": {
   "display_name": "Python 3",
   "language": "python",
   "name": "python3"
  },
  "language_info": {
   "codemirror_mode": {
    "name": "ipython",
    "version": 3
   },
   "file_extension": ".py",
   "mimetype": "text/x-python",
   "name": "python",
   "nbconvert_exporter": "python",
   "pygments_lexer": "ipython3",
   "version": "3.8.8"
  }
 },
 "nbformat": 4,
 "nbformat_minor": 2
}
